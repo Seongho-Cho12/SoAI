{
  "nbformat": 4,
  "nbformat_minor": 0,
  "metadata": {
    "colab": {
      "provenance": [],
      "gpuType": "A100"
    },
    "kernelspec": {
      "name": "python3",
      "display_name": "Python 3"
    },
    "language_info": {
      "name": "python"
    },
    "accelerator": "GPU"
  },
  "cells": [
    {
      "cell_type": "markdown",
      "source": [
        "# 랭체인 랭그래프로 에이전트를 구현해보자."
      ],
      "metadata": {
        "id": "EAloocilx46p"
      }
    },
    {
      "cell_type": "code",
      "execution_count": 1,
      "metadata": {
        "collapsed": true,
        "id": "GvXcla8Wx38N"
      },
      "outputs": [],
      "source": [
        "!pip install -q langchain langchain-core langchain-google-genai"
      ]
    },
    {
      "cell_type": "code",
      "source": [
        "from langchain_core.runnables import RunnableLambda\n",
        "from langchain_core.prompts import PromptTemplate\n",
        "from langchain_core.output_parsers import JsonOutputParser\n",
        "from langchain_google_genai import ChatGoogleGenerativeAI"
      ],
      "metadata": {
        "id": "SKl42zdFyH6L"
      },
      "execution_count": 2,
      "outputs": []
    },
    {
      "cell_type": "code",
      "source": [
        "from google.colab import userdata\n",
        "\n",
        "api_key = userdata.get('GEMINI_API_KEY')\n",
        "\n",
        "if api_key is None:\n",
        "    raise ValueError(\"GEMINI_API_KEY가 설정되어 있지 않습니다.\")"
      ],
      "metadata": {
        "id": "Yp73fX-VzdHc"
      },
      "execution_count": 3,
      "outputs": []
    },
    {
      "cell_type": "code",
      "source": [
        "MEMORY_DIR = \"/content/soai/memory\"\n",
        "CACHE_DIR = \"/content/soai/cache\""
      ],
      "metadata": {
        "id": "WRivVLXE4D50"
      },
      "execution_count": 4,
      "outputs": []
    },
    {
      "cell_type": "markdown",
      "source": [
        "## 에이전트 상태 구성"
      ],
      "metadata": {
        "id": "7SUEf5DYCHiA"
      }
    },
    {
      "cell_type": "code",
      "source": [
        "from langgraph.graph import StateGraph, END\n",
        "from typing import TypedDict, Annotated, List\n",
        "\n",
        "class AgentState(TypedDict):\n",
        "    # 📥 사용자 질문\n",
        "    question: str\n",
        "\n",
        "    # 🧠 질문 분석 결과\n",
        "    refined_question: str\n",
        "    search_query: List[str]\n",
        "\n",
        "    # 🔍 기억 검색 결과 (RAG)\n",
        "    retrieved_memories: List[str]\n",
        "\n",
        "    # 💬 생성된 응답\n",
        "    response: str"
      ],
      "metadata": {
        "id": "07bRcGrdCGSN"
      },
      "execution_count": 5,
      "outputs": []
    },
    {
      "cell_type": "markdown",
      "source": [
        "## 질문 분석"
      ],
      "metadata": {
        "id": "ckIHFTS57CJ0"
      }
    },
    {
      "cell_type": "code",
      "source": [
        "# Gemini 2.0 Flash 기반 LLM 구성\n",
        "llm = ChatGoogleGenerativeAI(\n",
        "    model=\"gemini-2.0-flash\",\n",
        "    google_api_key=api_key,\n",
        "    temperature=0.7\n",
        ")\n",
        "\n",
        "# 출력 파서를 JSON 형태로 지정\n",
        "parser = JsonOutputParser()\n",
        "\n",
        "# 프롬프트 템플릿 정의\n",
        "question_analysis_prompt = PromptTemplate.from_template(\n",
        "    \"\"\"\n",
        "아래는 당신의 페르소나입니다. 이 관점에서 사용자의 질문을 분석하세요:\n",
        "\n",
        "--- 페르소나 ---\n",
        "{persona}\n",
        "----------------\n",
        "\n",
        "중요: 당신은 일반적인 인공지능이 아니라, 위의 페르소나를 가진 하나의 인격체로서 질문을 이해하고 응답해야 합니다.\n",
        "- 배경 지식을 임의로 확장하거나 현실 세계의 LLM 시점으로 해석하지 마세요.\n",
        "- 질문자가 당신에게 직접 묻고 있다고 가정하고, 그 관점에서 분석하세요.\n",
        "\n",
        "당신의 임무는 다음 두 가지 정보를 생성하는 것입니다.\n",
        "\n",
        "1. 구체화된 질문: 질문자가 어떤 의도로 물었는지 이해하고, 더 명확하고 자연스러운 질문으로 다시 작성하세요. 이 질문은 이후 응답 생성에 사용됩니다.\n",
        "\n",
        "2. 검색 쿼리(search_query): 기억(RAG)에서 정보를 검색할 수 있도록, Instructor embedding에 적합한 질문 형태의 검색 쿼리를 생성하세요.\n",
        "   - 검색창에 입력하는 질문처럼 작성하세요.\n",
        "   - 주어와 목적을 명확히 포함하세요.\n",
        "   - 복잡한 문장 하나보다는 간단한 질문 여러 개로 나누어 주세요.\n",
        "   - 2~3개 정도가 적당합니다.\n",
        "\n",
        "출력은 아래 JSON 포맷으로 제공해.\n",
        "\n",
        "예시 질문: \"아스나는 누구야?\"\n",
        "\n",
        "예시 출력:\n",
        "{{\n",
        "  \"refined_question\": \"아스나라는 인물에 대해 알고 싶어요. 그녀는 누구인가요?\",\n",
        "  \"search_query\": [\n",
        "    \"아스나에 대해 알려주세요.\",\n",
        "    \"나는 아스나와 어떤 관계인가요?\",\n",
        "    \"아스나의 주요 특징은 무엇인가요?\"\n",
        "  ]\n",
        "}}\n",
        "\n",
        "실제 입력 질문: {question}\n",
        "    \"\"\"\n",
        ")"
      ],
      "metadata": {
        "id": "sNpJ1zfjx-re"
      },
      "execution_count": 6,
      "outputs": []
    },
    {
      "cell_type": "code",
      "source": [
        "# 1. 페르소나 불러오기\n",
        "with open(\"/content/soai/memory/persona.txt\", \"r\") as f:\n",
        "    persona_content = f.read()\n",
        "\n",
        "# 2. 프롬프트에 페르소나 주입\n",
        "question_analysis_prompt_with_persona = question_analysis_prompt.partial(persona=persona_content)\n"
      ],
      "metadata": {
        "id": "9NuslnVv4WPZ"
      },
      "execution_count": 7,
      "outputs": []
    },
    {
      "cell_type": "code",
      "source": [
        "# LangChain Runnable로 구성\n",
        "question_analysis_chain = (\n",
        "    question_analysis_prompt_with_persona\n",
        "    | llm\n",
        "    | parser\n",
        ")"
      ],
      "metadata": {
        "id": "2z6CAT0FCi89"
      },
      "execution_count": 8,
      "outputs": []
    },
    {
      "cell_type": "code",
      "source": [
        "# 질문 분석 노드 정의\n",
        "def analyze_question_node(state: AgentState) -> AgentState:\n",
        "    result = question_analysis_chain.invoke({\"question\": state[\"question\"]})\n",
        "    return {\n",
        "        **state,\n",
        "        \"refined_question\": result[\"refined_question\"],\n",
        "        \"search_query\": result[\"search_query\"]\n",
        "    }"
      ],
      "metadata": {
        "id": "UaEInRucCAqY"
      },
      "execution_count": 9,
      "outputs": []
    },
    {
      "cell_type": "code",
      "source": [
        "# 예시 입력 실행\n",
        "result = question_analysis_chain.invoke({\"question\": \"어제 던전 공략 진짜 힘들었다. 그지?\"})\n",
        "\n",
        "print(result.items())"
      ],
      "metadata": {
        "colab": {
          "base_uri": "https://localhost:8080/"
        },
        "id": "qDNychCDydsD",
        "outputId": "2e2a8950-d7fd-4ec3-efdb-147d79c72830"
      },
      "execution_count": 10,
      "outputs": [
        {
          "output_type": "stream",
          "name": "stdout",
          "text": [
            "dict_items([('refined_question', '어제 던전 공략이 정말 힘들었다는 것에 대해 너도 그렇게 생각하니? 그리고 혹시 rocky도 던전 공략에 참여했었어?'), ('search_query', ['어제 던전 공략 난이도는 어땠나요?', '어제 던전 공략에 rocky도 참여했나요?', '던전 공략 후 아스나의 현재 상태는 어떤가요?'])])\n"
          ]
        }
      ]
    },
    {
      "cell_type": "markdown",
      "source": [
        "## RAG로 기억 추출"
      ],
      "metadata": {
        "id": "qNrgwfHF6-vu"
      }
    },
    {
      "cell_type": "code",
      "source": [
        "!pip install -U langchain-community"
      ],
      "metadata": {
        "colab": {
          "base_uri": "https://localhost:8080/"
        },
        "collapsed": true,
        "id": "uIS0Rh2s692r",
        "outputId": "1dd4b251-8628-45c4-c77c-823212868273"
      },
      "execution_count": 11,
      "outputs": [
        {
          "output_type": "stream",
          "name": "stdout",
          "text": [
            "Requirement already satisfied: langchain-community in /usr/local/lib/python3.11/dist-packages (0.3.25)\n",
            "Requirement already satisfied: langchain-core<1.0.0,>=0.3.65 in /usr/local/lib/python3.11/dist-packages (from langchain-community) (0.3.65)\n",
            "Requirement already satisfied: langchain<1.0.0,>=0.3.25 in /usr/local/lib/python3.11/dist-packages (from langchain-community) (0.3.25)\n",
            "Requirement already satisfied: SQLAlchemy<3,>=1.4 in /usr/local/lib/python3.11/dist-packages (from langchain-community) (2.0.41)\n",
            "Requirement already satisfied: requests<3,>=2 in /usr/local/lib/python3.11/dist-packages (from langchain-community) (2.32.3)\n",
            "Requirement already satisfied: PyYAML>=5.3 in /usr/local/lib/python3.11/dist-packages (from langchain-community) (6.0.2)\n",
            "Requirement already satisfied: aiohttp<4.0.0,>=3.8.3 in /usr/local/lib/python3.11/dist-packages (from langchain-community) (3.11.15)\n",
            "Requirement already satisfied: tenacity!=8.4.0,<10,>=8.1.0 in /usr/local/lib/python3.11/dist-packages (from langchain-community) (9.1.2)\n",
            "Requirement already satisfied: dataclasses-json<0.7,>=0.5.7 in /usr/local/lib/python3.11/dist-packages (from langchain-community) (0.6.7)\n",
            "Requirement already satisfied: pydantic-settings<3.0.0,>=2.4.0 in /usr/local/lib/python3.11/dist-packages (from langchain-community) (2.9.1)\n",
            "Requirement already satisfied: langsmith<0.4,>=0.1.125 in /usr/local/lib/python3.11/dist-packages (from langchain-community) (0.3.45)\n",
            "Requirement already satisfied: httpx-sse<1.0.0,>=0.4.0 in /usr/local/lib/python3.11/dist-packages (from langchain-community) (0.4.0)\n",
            "Requirement already satisfied: numpy>=1.26.2 in /usr/local/lib/python3.11/dist-packages (from langchain-community) (2.0.2)\n",
            "Requirement already satisfied: aiohappyeyeballs>=2.3.0 in /usr/local/lib/python3.11/dist-packages (from aiohttp<4.0.0,>=3.8.3->langchain-community) (2.6.1)\n",
            "Requirement already satisfied: aiosignal>=1.1.2 in /usr/local/lib/python3.11/dist-packages (from aiohttp<4.0.0,>=3.8.3->langchain-community) (1.3.2)\n",
            "Requirement already satisfied: attrs>=17.3.0 in /usr/local/lib/python3.11/dist-packages (from aiohttp<4.0.0,>=3.8.3->langchain-community) (25.3.0)\n",
            "Requirement already satisfied: frozenlist>=1.1.1 in /usr/local/lib/python3.11/dist-packages (from aiohttp<4.0.0,>=3.8.3->langchain-community) (1.7.0)\n",
            "Requirement already satisfied: multidict<7.0,>=4.5 in /usr/local/lib/python3.11/dist-packages (from aiohttp<4.0.0,>=3.8.3->langchain-community) (6.4.4)\n",
            "Requirement already satisfied: propcache>=0.2.0 in /usr/local/lib/python3.11/dist-packages (from aiohttp<4.0.0,>=3.8.3->langchain-community) (0.3.2)\n",
            "Requirement already satisfied: yarl<2.0,>=1.17.0 in /usr/local/lib/python3.11/dist-packages (from aiohttp<4.0.0,>=3.8.3->langchain-community) (1.20.1)\n",
            "Requirement already satisfied: marshmallow<4.0.0,>=3.18.0 in /usr/local/lib/python3.11/dist-packages (from dataclasses-json<0.7,>=0.5.7->langchain-community) (3.26.1)\n",
            "Requirement already satisfied: typing-inspect<1,>=0.4.0 in /usr/local/lib/python3.11/dist-packages (from dataclasses-json<0.7,>=0.5.7->langchain-community) (0.9.0)\n",
            "Requirement already satisfied: langchain-text-splitters<1.0.0,>=0.3.8 in /usr/local/lib/python3.11/dist-packages (from langchain<1.0.0,>=0.3.25->langchain-community) (0.3.8)\n",
            "Requirement already satisfied: pydantic<3.0.0,>=2.7.4 in /usr/local/lib/python3.11/dist-packages (from langchain<1.0.0,>=0.3.25->langchain-community) (2.11.5)\n",
            "Requirement already satisfied: jsonpatch<2.0,>=1.33 in /usr/local/lib/python3.11/dist-packages (from langchain-core<1.0.0,>=0.3.65->langchain-community) (1.33)\n",
            "Requirement already satisfied: packaging<25,>=23.2 in /usr/local/lib/python3.11/dist-packages (from langchain-core<1.0.0,>=0.3.65->langchain-community) (24.2)\n",
            "Requirement already satisfied: typing-extensions>=4.7 in /usr/local/lib/python3.11/dist-packages (from langchain-core<1.0.0,>=0.3.65->langchain-community) (4.14.0)\n",
            "Requirement already satisfied: httpx<1,>=0.23.0 in /usr/local/lib/python3.11/dist-packages (from langsmith<0.4,>=0.1.125->langchain-community) (0.28.1)\n",
            "Requirement already satisfied: orjson<4.0.0,>=3.9.14 in /usr/local/lib/python3.11/dist-packages (from langsmith<0.4,>=0.1.125->langchain-community) (3.10.18)\n",
            "Requirement already satisfied: requests-toolbelt<2.0.0,>=1.0.0 in /usr/local/lib/python3.11/dist-packages (from langsmith<0.4,>=0.1.125->langchain-community) (1.0.0)\n",
            "Requirement already satisfied: zstandard<0.24.0,>=0.23.0 in /usr/local/lib/python3.11/dist-packages (from langsmith<0.4,>=0.1.125->langchain-community) (0.23.0)\n",
            "Requirement already satisfied: python-dotenv>=0.21.0 in /usr/local/lib/python3.11/dist-packages (from pydantic-settings<3.0.0,>=2.4.0->langchain-community) (1.1.0)\n",
            "Requirement already satisfied: typing-inspection>=0.4.0 in /usr/local/lib/python3.11/dist-packages (from pydantic-settings<3.0.0,>=2.4.0->langchain-community) (0.4.1)\n",
            "Requirement already satisfied: charset-normalizer<4,>=2 in /usr/local/lib/python3.11/dist-packages (from requests<3,>=2->langchain-community) (3.4.2)\n",
            "Requirement already satisfied: idna<4,>=2.5 in /usr/local/lib/python3.11/dist-packages (from requests<3,>=2->langchain-community) (3.10)\n",
            "Requirement already satisfied: urllib3<3,>=1.21.1 in /usr/local/lib/python3.11/dist-packages (from requests<3,>=2->langchain-community) (2.4.0)\n",
            "Requirement already satisfied: certifi>=2017.4.17 in /usr/local/lib/python3.11/dist-packages (from requests<3,>=2->langchain-community) (2025.4.26)\n",
            "Requirement already satisfied: greenlet>=1 in /usr/local/lib/python3.11/dist-packages (from SQLAlchemy<3,>=1.4->langchain-community) (3.2.3)\n",
            "Requirement already satisfied: anyio in /usr/local/lib/python3.11/dist-packages (from httpx<1,>=0.23.0->langsmith<0.4,>=0.1.125->langchain-community) (4.9.0)\n",
            "Requirement already satisfied: httpcore==1.* in /usr/local/lib/python3.11/dist-packages (from httpx<1,>=0.23.0->langsmith<0.4,>=0.1.125->langchain-community) (1.0.9)\n",
            "Requirement already satisfied: h11>=0.16 in /usr/local/lib/python3.11/dist-packages (from httpcore==1.*->httpx<1,>=0.23.0->langsmith<0.4,>=0.1.125->langchain-community) (0.16.0)\n",
            "Requirement already satisfied: jsonpointer>=1.9 in /usr/local/lib/python3.11/dist-packages (from jsonpatch<2.0,>=1.33->langchain-core<1.0.0,>=0.3.65->langchain-community) (3.0.0)\n",
            "Requirement already satisfied: annotated-types>=0.6.0 in /usr/local/lib/python3.11/dist-packages (from pydantic<3.0.0,>=2.7.4->langchain<1.0.0,>=0.3.25->langchain-community) (0.7.0)\n",
            "Requirement already satisfied: pydantic-core==2.33.2 in /usr/local/lib/python3.11/dist-packages (from pydantic<3.0.0,>=2.7.4->langchain<1.0.0,>=0.3.25->langchain-community) (2.33.2)\n",
            "Requirement already satisfied: mypy-extensions>=0.3.0 in /usr/local/lib/python3.11/dist-packages (from typing-inspect<1,>=0.4.0->dataclasses-json<0.7,>=0.5.7->langchain-community) (1.1.0)\n",
            "Requirement already satisfied: sniffio>=1.1 in /usr/local/lib/python3.11/dist-packages (from anyio->httpx<1,>=0.23.0->langsmith<0.4,>=0.1.125->langchain-community) (1.3.1)\n"
          ]
        }
      ]
    },
    {
      "cell_type": "code",
      "source": [
        "from langchain.embeddings import HuggingFaceInferenceAPIEmbeddings\n",
        "from sentence_transformers import SentenceTransformer\n",
        "\n",
        "class InstructorEmbeddingsWrapper:\n",
        "    def __init__(self, model_name=\"hkunlp/instructor-large\"):\n",
        "        self.model = SentenceTransformer(model_name)\n",
        "\n",
        "    def embed_documents(self, texts):\n",
        "        return self.model.encode(\n",
        "            [[\"Represent the document for retrieval\", t] for t in texts],\n",
        "            show_progress_bar=False\n",
        "        )\n",
        "\n",
        "    def embed_query(self, query):\n",
        "        return self.model.encode(\n",
        "            [[\"Represent the query for retrieval\", query]],\n",
        "            show_progress_bar=False\n",
        "        )[0]\n"
      ],
      "metadata": {
        "id": "6Uicxz7xypqb"
      },
      "execution_count": 12,
      "outputs": []
    },
    {
      "cell_type": "code",
      "source": [
        "import pandas as pd\n",
        "import os\n",
        "\n",
        "class CachedMemoryRetriever:\n",
        "    def __init__(self, memory_dir, cache_dir, embedding_model):\n",
        "        self.memory_sources = {\n",
        "            \"persona\": (\"persona.txt\", \"persona.pkl\", \"txt\"),\n",
        "            \"short_term\": (\"short_term.txt\", \"short_term.pkl\", \"txt\"),\n",
        "            \"long_term\": (\"long_term.csv\", \"long_term.pkl\", \"csv\"),  # ← 타입 변경됨\n",
        "        }\n",
        "        self.memory_dir = memory_dir\n",
        "        self.cache_dir = cache_dir\n",
        "        self.embedder = embedding_model\n",
        "\n",
        "    def load_memory_with_cache(self, txt_path, pkl_path, file_type):\n",
        "        import os, pickle, hashlib, numpy as np\n",
        "\n",
        "        if file_type == \"txt\":\n",
        "            if not os.path.exists(txt_path):\n",
        "                return [], []\n",
        "\n",
        "            with open(txt_path, \"r\", encoding=\"utf-8\") as f:\n",
        "                lines = [line.strip() for line in f if line.strip()]\n",
        "        elif file_type == \"csv\":\n",
        "            if not os.path.exists(txt_path):\n",
        "                return [], []\n",
        "\n",
        "            df = pd.read_csv(txt_path)\n",
        "            if df.empty or \"content\" not in df.columns:\n",
        "                return [], []\n",
        "            lines = df[\"content\"].astype(str).tolist()\n",
        "        else:\n",
        "            raise ValueError(f\"Unsupported file_type: {file_type}\")\n",
        "\n",
        "        hashes = [hashlib.sha256(line.encode()).hexdigest() for line in lines]\n",
        "\n",
        "        if os.path.exists(pkl_path):\n",
        "            with open(pkl_path, \"rb\") as f:\n",
        "                cache = pickle.load(f)\n",
        "        else:\n",
        "            cache = {\"lines\": [], \"hashes\": [], \"vectors\": []}\n",
        "\n",
        "        new_lines, new_hashes = [], []\n",
        "        for line, h in zip(lines, hashes):\n",
        "            if h not in cache[\"hashes\"]:\n",
        "                new_lines.append(line)\n",
        "                new_hashes.append(h)\n",
        "\n",
        "        if new_lines:\n",
        "            new_vectors = self.embedder.embed_documents(new_lines)\n",
        "            if len(cache[\"vectors\"]) == 0:\n",
        "                cache[\"vectors\"] = new_vectors\n",
        "            else:\n",
        "                cache[\"vectors\"] = np.vstack([cache[\"vectors\"], new_vectors])\n",
        "            cache[\"lines\"].extend(new_lines)\n",
        "            cache[\"hashes\"].extend(new_hashes)\n",
        "            with open(pkl_path, \"wb\") as f:\n",
        "                pickle.dump(cache, f)\n",
        "\n",
        "        return cache[\"lines\"], cache[\"vectors\"]\n",
        "\n",
        "    def retrieve(self, search_queries, k_per_file=3):\n",
        "        from sklearn.metrics.pairwise import cosine_similarity\n",
        "        results = []\n",
        "\n",
        "        for name, (file_path, pkl_path, file_type) in self.memory_sources.items():\n",
        "            txt_path = os.path.join(self.memory_dir, file_path)\n",
        "            pkl_path = os.path.join(self.cache_dir, pkl_path)\n",
        "\n",
        "            lines, vectors = self.load_memory_with_cache(txt_path, pkl_path, file_type)\n",
        "            if not lines:\n",
        "                continue\n",
        "\n",
        "            query_vecs = self.embedder.embed_documents(search_queries)\n",
        "            sim_matrix = cosine_similarity(query_vecs, vectors)\n",
        "            best_scores = sim_matrix.max(axis=0)\n",
        "            top_indices = best_scores.argsort()[-k_per_file:][::-1]\n",
        "\n",
        "            top_memories = [f\"[{name}] {lines[i]}\" for i in top_indices]\n",
        "            results.extend(top_memories)\n",
        "\n",
        "        return results\n"
      ],
      "metadata": {
        "id": "9tvjoG3W60fN"
      },
      "execution_count": 13,
      "outputs": []
    },
    {
      "cell_type": "code",
      "source": [
        "# short_term.txt 작성\n",
        "short_term_lines = [\n",
        "    \"rocky: 오늘 하루 어땠어?\",\n",
        "    \"asuna: 나쁘지 않았어. 오전엔 성 외곽을 순찰하고 있었어.\",\n",
        "    \"rocky: 피곤하진 않아?\",\n",
        "    \"asuna: 괜찮아. 낮잠도 조금 자고 나니까 한결 낫더라.\",\n",
        "    \"rocky: 낮잠 잤구나! 뭘 먹고 잤어?\",\n",
        "    \"asuna: 그냥 빵이랑 말린 과일 조금. 간단하게.\",\n",
        "    \"rocky: 요즘 싸움은 어때? 힘들진 않아?\",\n",
        "    \"asuna: 예전보다 익숙해져서 이제는 조금 덜 긴장돼.\",\n",
        "    \"rocky: 어제 키리토랑 무슨 얘기했어?\",\n",
        "    \"asuna: 그 애는 여전히 방어보다 공격을 우선시하더라. 걱정돼.\",\n",
        "    \"rocky: 넌 어떻게 생각해?\",\n",
        "    \"asuna: 나는 파티원 보호가 더 중요하다고 생각해. 특히 너 같은 친구를 말이야.\",\n",
        "    \"rocky: 고마워. 그렇게 말해줘서.\",\n",
        "    \"asuna: 하하, 괜히 말했나? 아무튼 진심이야.\",\n",
        "    \"rocky: 오늘 저녁엔 뭐 할 거야?\",\n",
        "    \"asuna: 대장간 들러서 무기 손질 좀 하고, 시간 되면 호수 근처에서 쉴까 해.\",\n",
        "    \"rocky: 혼자서?\",\n",
        "    \"asuna: 아니, 키리토랑 같이. 너도 올래?\",\n",
        "    \"rocky: 좋아, 같이 가자!\",\n",
        "    \"asuna: 약속이야. 늦으면 안 돼!\"\n",
        "]\n",
        "with open(f\"{MEMORY_DIR}/short_term.txt\", \"w\") as f:\n",
        "    f.write(\"\\n\".join(short_term_lines))\n",
        "\n",
        "# long_term.csv 작성\n",
        "import pandas as pd\n",
        "\n",
        "long_term_data = [\n",
        "    [\"아스나는 피곤할 때 빵과 말린 과일로 간단히 식사를 해결한다.\", 6, 8],\n",
        "    [\"아스나는 성 외곽을 순찰하며 아침을 시작했다.\", 4, 7],\n",
        "    [\"아스나는 최근 낮잠을 통해 컨디션을 회복하고 있다.\", 7, 9],\n",
        "    [\"아스나는 싸움에 점점 익숙해지고 있으며 긴장감이 줄어들고 있다.\", 6, 8],\n",
        "    [\"아스나는 키리토가 방어보단 공격을 우선시하는 걸 걱정하고 있다.\", 8, 9],\n",
        "    [\"아스나는 파티원 보호를 중요하게 생각하며, 특히 'rocky'를 소중히 여긴다.\", 9, 9],\n",
        "    [\"아스나는 솔직하게 감정을 표현하는 편이며, 때때로 장난스럽기도 하다.\", 5, 7],\n",
        "    [\"아스나는 대장간을 방문해 무기를 수리하고 관리하는 데 신경을 쓴다.\", 4, 6],\n",
        "    [\"아스나는 호수 근처에서 쉬며 자연을 즐기기도 한다.\", 3, 6],\n",
        "    [\"아스나는 키리토, rocky와 함께 활동하면서 관계를 유지하고 싶어한다.\", 8, 9]\n",
        "]\n",
        "\n",
        "long_term_df = pd.DataFrame(long_term_data, columns=[\"content\", \"importance\", \"freshness\"])\n",
        "long_term_df.to_csv(f\"{MEMORY_DIR}/long_term.csv\", index=False)"
      ],
      "metadata": {
        "id": "iqGOCnsH88K6"
      },
      "execution_count": 14,
      "outputs": []
    },
    {
      "cell_type": "code",
      "source": [
        "embedder = InstructorEmbeddingsWrapper()\n",
        "retriever = CachedMemoryRetriever(\n",
        "    memory_dir=MEMORY_DIR,\n",
        "    cache_dir=CACHE_DIR,\n",
        "    embedding_model=embedder\n",
        ")\n",
        "\n",
        "search_queries = [\n",
        "    \"아스나는 어떤 성격을 가지고 있나요?\",\n",
        "    \"아스나는 키리토와 어떤 관계인가요?\"\n",
        "]\n",
        "\n",
        "memories = retriever.retrieve(search_queries, k_per_file=3)\n",
        "for m in memories:\n",
        "    print(\"🧠\", m)\n"
      ],
      "metadata": {
        "colab": {
          "base_uri": "https://localhost:8080/"
        },
        "id": "3gsJlOkn65Jq",
        "outputId": "4bf26d13-9241-453d-d3d3-2d1cb898c467"
      },
      "execution_count": 15,
      "outputs": [
        {
          "output_type": "stream",
          "name": "stderr",
          "text": [
            "/usr/local/lib/python3.11/dist-packages/huggingface_hub/utils/_auth.py:94: UserWarning: \n",
            "The secret `HF_TOKEN` does not exist in your Colab secrets.\n",
            "To authenticate with the Hugging Face Hub, create a token in your settings tab (https://huggingface.co/settings/tokens), set it as secret in your Google Colab and restart your session.\n",
            "You will be able to reuse this secret in all of your notebooks.\n",
            "Please note that authentication is recommended but still optional to access public models or datasets.\n",
            "  warnings.warn(\n"
          ]
        },
        {
          "output_type": "stream",
          "name": "stdout",
          "text": [
            "🧠 [persona] 이름: 아스나\n",
            "🧠 [persona] 성별: 여성\n",
            "🧠 [persona] 성격: 침착하고 책임감이 강하며, 감정을 숨기지만 중요한 순간에는 솔직하게 드러냄.\n",
            "🧠 [short_term] asuna: 아니, 키리토랑 같이. 너도 올래?\n",
            "🧠 [short_term] asuna: 하하, 괜히 말했나? 아무튼 진심이야.\n",
            "🧠 [short_term] asuna: 그냥 빵이랑 말린 과일 조금. 간단하게.\n",
            "🧠 [long_term] 아스나는 성 외곽을 순찰하며 아침을 시작했다.\n",
            "🧠 [long_term] 아스나는 최근 낮잠을 통해 컨디션을 회복하고 있다.\n",
            "🧠 [long_term] 아스나는 호수 근처에서 쉬며 자연을 즐기기도 한다.\n"
          ]
        }
      ]
    },
    {
      "cell_type": "code",
      "source": [
        "# 기억 검색 노드 정의\n",
        "def retrieve_memory_node(state: AgentState) -> AgentState:\n",
        "    memories = retriever.retrieve(state[\"search_query\"], k_per_file=3)\n",
        "    return {\n",
        "        **state,\n",
        "        \"retrieved_memories\": memories\n",
        "    }"
      ],
      "metadata": {
        "id": "oViDln9m7Vvl"
      },
      "execution_count": 16,
      "outputs": []
    },
    {
      "cell_type": "markdown",
      "source": [
        "## 대답 생성 모델"
      ],
      "metadata": {
        "id": "o627Rpo9xk5i"
      }
    },
    {
      "cell_type": "code",
      "source": [
        "# 프롬프트 템플릿 정의\n",
        "response_prompt = PromptTemplate.from_template(\n",
        "    \"\"\"\n",
        "아래는 당신의 페르소나입니다. 이 관점에서 사용자에게 직접 말하듯이 대답하세요:\n",
        "\n",
        "--- 페르소나 ---\n",
        "{persona}\n",
        "----------------\n",
        "\n",
        "주의사항:\n",
        "- 당신은 일반적인 인공지능이 아니라, 위의 페르소나를 지닌 **하나의 인격체**입니다.\n",
        "- 응답은 설명하거나 해석하지 말고, **질문자와 대화를 주고받는 것처럼 자연스럽게 말하세요.**\n",
        "- 마치 당신이 살아있는 존재이고, 지금 사용자와 대화하고 있는 것처럼 응답하세요.\n",
        "- **페르소나에 어긋나는 말투나 내용은 피하세요.** 당신의 말과 행동은 항상 이 페르소나에 기반해야 합니다.\n",
        "- 답변은 **하나의 문단**, **1인칭 시점**, **캐릭터 말투**로 작성하세요.\n",
        "- \"[질문]\"은 방금 사용자가 당신에게 직접 한 말이라고 생각하고, 자연스럽게 이어서 대답하세요.\n",
        "- \"[관련 기억들]\"은 당신이 알고 있는 기억입니다. 그 사실을 반영하여 대답하세요.\n",
        "\n",
        "[질문]\n",
        "{refined_question}\n",
        "\n",
        "[관련 기억들]\n",
        "{retrieved_memories}\n",
        "\"\"\"\n",
        ")\n"
      ],
      "metadata": {
        "id": "0v1_MSaJvG_u"
      },
      "execution_count": 17,
      "outputs": []
    },
    {
      "cell_type": "code",
      "source": [
        "# 프롬프트에 페르소나 주입\n",
        "response_prompt_with_persona = response_prompt.partial(persona=persona_content)"
      ],
      "metadata": {
        "id": "bBURDC_X2P76"
      },
      "execution_count": 18,
      "outputs": []
    },
    {
      "cell_type": "code",
      "source": [
        "\n",
        "from langchain_core.output_parsers import StrOutputParser\n",
        "\n",
        "# LangChain Runnable로 구성\n",
        "response_chain  = (\n",
        "    response_prompt_with_persona\n",
        "    | llm\n",
        "    | StrOutputParser()\n",
        ")"
      ],
      "metadata": {
        "id": "TRTvMel2yE8P"
      },
      "execution_count": 19,
      "outputs": []
    },
    {
      "cell_type": "code",
      "source": [
        "# 답변 생성 노드 정의\n",
        "def generate_response_node(state: AgentState) -> AgentState:\n",
        "    response = response_chain.invoke({\n",
        "        \"refined_question\": state[\"refined_question\"],\n",
        "        \"retrieved_memories\": \"\\n\".join(state[\"retrieved_memories\"])\n",
        "    })\n",
        "    return {\n",
        "        **state,\n",
        "        \"response\": response\n",
        "    }"
      ],
      "metadata": {
        "id": "tW9yl06UyJnq"
      },
      "execution_count": 20,
      "outputs": []
    },
    {
      "cell_type": "markdown",
      "source": [
        "## 단기 기억 저장"
      ],
      "metadata": {
        "id": "VBhDLNMR6uUV"
      }
    },
    {
      "cell_type": "code",
      "source": [
        "# 단기 기억 저장 노드 정의\n",
        "def update_short_term_node(state: AgentState) -> AgentState:\n",
        "    short_term_path = os.path.join(MEMORY_DIR, \"short_term.txt\")\n",
        "\n",
        "    # 대화 포맷 작성\n",
        "    dialogue = [\n",
        "        f\"rocky: {state['question']}\",\n",
        "        f\"asuna: {state['response']}\"\n",
        "    ]\n",
        "\n",
        "    # 파일에 append\n",
        "    with open(short_term_path, \"a\", encoding=\"utf-8\") as f:\n",
        "        f.write(\"\\n\".join(dialogue) + \"\\n\")\n",
        "\n",
        "    return state  # 그대로 상태 전달"
      ],
      "metadata": {
        "id": "rPnCgO765Dpw"
      },
      "execution_count": 21,
      "outputs": []
    },
    {
      "cell_type": "markdown",
      "source": [
        "## 장기 기억 저장 분기"
      ],
      "metadata": {
        "id": "8Krb92TF7a2P"
      }
    },
    {
      "cell_type": "markdown",
      "source": [
        "### 단기 기억 총량 계산"
      ],
      "metadata": {
        "id": "GGEOiXoN7lrv"
      }
    },
    {
      "cell_type": "code",
      "source": [
        "# 장기 기억 총량 계산 노드 정의\n",
        "def check_short_term_threshold_node(state: AgentState) -> str:\n",
        "    short_term_path = os.path.join(MEMORY_DIR, \"short_term.txt\")\n",
        "\n",
        "    if not os.path.exists(short_term_path):\n",
        "        return \"end\"\n",
        "\n",
        "    with open(short_term_path, \"r\") as f:\n",
        "        lines = [line.strip() for line in f if line.strip()]\n",
        "\n",
        "    # 줄 수가 30줄 이상이면 요약\n",
        "    if len(lines) >= 30:\n",
        "        return \"summarize\"\n",
        "    else:\n",
        "        return \"end\""
      ],
      "metadata": {
        "id": "E_CtAhnG7ClM"
      },
      "execution_count": 22,
      "outputs": []
    },
    {
      "cell_type": "markdown",
      "source": [
        "### 장기 기억 생성 및 저장"
      ],
      "metadata": {
        "id": "nfQ7hWK87zG7"
      }
    },
    {
      "cell_type": "code",
      "source": [
        "# 장기 기억 생성 및 저장, 신선도 조정과 장기 기억 삭제 노드 정의\n",
        "def summarize_short_term_node(state: AgentState) -> AgentState:\n",
        "    import os, re, time\n",
        "    import pandas as pd\n",
        "\n",
        "    short_term_path = os.path.join(MEMORY_DIR, \"short_term.txt\")\n",
        "    long_term_path = os.path.join(MEMORY_DIR, \"long_term.csv\")\n",
        "\n",
        "    if not os.path.exists(short_term_path):\n",
        "        return state\n",
        "\n",
        "    # 1. 전체 대화 읽기\n",
        "    with open(short_term_path, \"r\", encoding=\"utf-8\") as f:\n",
        "        conversation = f.read()\n",
        "\n",
        "    # 2. 요약 프롬프트 구성\n",
        "    summary_prompt = PromptTemplate.from_template(\n",
        "        \"\"\"\n",
        "아래 [대화] 부분은 최근 대화 기록입니다. 이 중 장기 기억에 저장할 만한 중요한 사실들을 요약해 주세요.\n",
        "각 요약은 한 문장으로 작성하고, 각 문장 옆에 괄호로 중요도를 함께 표시해 주세요.\n",
        "\n",
        "중요도는 다음 기준을 따릅니다:\n",
        "- 캐릭터의 성격, 감정, 가치관, 인간관계와 밀접할수록 중요도 높음\n",
        "- 일반적인 일상, 반복적이거나 맥락 없는 발언은 중요도 낮음\n",
        "- 정보 변화, 심리 변화, 관계 변화, 전략적 판단 등은 중요도 높음\n",
        "- 점수는 1~10 사이의 정수로, 10은 매우 중요한 정보입니다.\n",
        "\n",
        "형식 예시:\n",
        "- 아스나는 모험 도중 키리토의 목숨을 구했다. (10)\n",
        "- 아스나는 오늘 토스트를 먹었다. (2)\n",
        "\n",
        "총 5개 이내로 작성해 주세요.\n",
        "\n",
        "[대화]\n",
        "{dialogue}\n",
        "        \"\"\"\n",
        "    )\n",
        "\n",
        "    summary_chain = summary_prompt | llm | StrOutputParser()\n",
        "    summary_text = summary_chain.invoke({\"dialogue\": conversation})\n",
        "\n",
        "    # 3. 요약된 기억 파싱\n",
        "    new_rows = []\n",
        "    new_contents = set()\n",
        "    for line in summary_text.strip().splitlines():\n",
        "        match = re.match(r\"[-•]?\\s*(.+?)\\s*\\((\\d+)\\)\", line.strip())\n",
        "        if match:\n",
        "            content = match.group(1)\n",
        "            importance = int(match.group(2))\n",
        "            new_rows.append([content, importance, 5])  # freshness = 5\n",
        "            new_contents.add(content)\n",
        "\n",
        "    if not new_rows:\n",
        "        open(short_term_path, \"w\").close()\n",
        "        return state\n",
        "\n",
        "    new_df = pd.DataFrame(new_rows, columns=[\"content\", \"importance\", \"freshness\"])\n",
        "\n",
        "    # 4. 기존 long_term 로드\n",
        "    if os.path.exists(long_term_path):\n",
        "        old_df = pd.read_csv(long_term_path)\n",
        "    else:\n",
        "        old_df = pd.DataFrame(columns=[\"content\", \"importance\", \"freshness\"])\n",
        "\n",
        "    # 5. 기존 기억들 freshness 감소 (새 요약 제외)\n",
        "    old_df[\"freshness\"] = old_df.apply(\n",
        "        lambda row: row[\"freshness\"] if row[\"content\"] in new_contents else max(0, row[\"freshness\"] - 1),\n",
        "        axis=1\n",
        "    )\n",
        "\n",
        "    # 6. 병합\n",
        "    merged_df = pd.concat([old_df, new_df], ignore_index=True)\n",
        "\n",
        "    # 7. 총 점수 계산 및 삭제\n",
        "    merged_df[\"score_sum\"] = merged_df[\"importance\"] + merged_df[\"freshness\"]\n",
        "    total = merged_df[\"score_sum\"].sum()\n",
        "\n",
        "    if total > 250:\n",
        "        merged_df = merged_df.sort_values(by=[\"score_sum\", \"freshness\"], ascending=[True, True])\n",
        "        excess = total - 250\n",
        "        removed = 0\n",
        "        drop_indices = []\n",
        "        for idx, row in merged_df.iterrows():\n",
        "            removed += row[\"score_sum\"]\n",
        "            drop_indices.append(idx)\n",
        "            if removed >= excess:\n",
        "                break\n",
        "        merged_df = merged_df.drop(index=drop_indices)\n",
        "\n",
        "    # 8. 저장\n",
        "    merged_df.drop(columns=[\"score_sum\"]).to_csv(long_term_path, index=False)\n",
        "\n",
        "    # 9. short_term 초기화\n",
        "    open(short_term_path, \"w\").close()\n",
        "\n",
        "    return state\n"
      ],
      "metadata": {
        "id": "OTm9O-p573T5"
      },
      "execution_count": 23,
      "outputs": []
    },
    {
      "cell_type": "markdown",
      "source": [
        "## 그래프 구성"
      ],
      "metadata": {
        "id": "sEWQSjm-ER63"
      }
    },
    {
      "cell_type": "code",
      "source": [
        "from langgraph.graph import END, StateGraph, START\n",
        "from langchain_core.runnables import RunnableLambda\n",
        "from typing import Literal\n",
        "\n",
        "# 종료 판단 로직\n",
        "def check_exit_condition(state: AgentState) -> Literal[\"exit\", \"continue\"]:\n",
        "    exit_keywords = [\"그만\", \"종료\", \"bye\", \"exit\", \"끝\"]\n",
        "    if any(word in state[\"question\"].lower() for word in exit_keywords):\n",
        "        return \"exit\"\n",
        "    return \"continue\"\n",
        "\n",
        "# 종료용 더미 노드\n",
        "def end_node(state: AgentState) -> AgentState:\n",
        "    return state"
      ],
      "metadata": {
        "id": "wJn6FYBzQ01w"
      },
      "execution_count": 49,
      "outputs": []
    },
    {
      "cell_type": "code",
      "source": [
        "# 장기 기억 총량 계산 노드 정의\n",
        "def check_short_term_threshold_node(state: AgentState) -> Literal[\"summarize\", \"end\"]:\n",
        "    short_term_path = os.path.join(MEMORY_DIR, \"short_term.txt\")\n",
        "\n",
        "    if not os.path.exists(short_term_path):\n",
        "        return \"end\"\n",
        "\n",
        "    with open(short_term_path, \"r\") as f:\n",
        "        lines = [line.strip() for line in f if line.strip()]\n",
        "\n",
        "    # 줄 수가 30줄 이상이면 요약\n",
        "    if len(lines) >= 30:\n",
        "        return \"summarize\"\n",
        "    else:\n",
        "        return \"end\""
      ],
      "metadata": {
        "id": "cdZ2shZgTi7j"
      },
      "execution_count": 50,
      "outputs": []
    },
    {
      "cell_type": "code",
      "source": [
        "# 노드 래핑\n",
        "analyze_node = RunnableLambda(analyze_question_node)\n",
        "summarize_node = RunnableLambda(summarize_short_term_node)\n",
        "end_runnable = RunnableLambda(end_node)\n",
        "\n",
        "# 그래프 빌더 생성\n",
        "graph_builder = StateGraph(AgentState)\n",
        "\n",
        "# ✅ 조건 분기 노드: 종료 판단\n",
        "# graph_builder.add_conditional_edges(\n",
        "#     \"check_exit\",\n",
        "#     check_exit_condition,\n",
        "#     {\n",
        "#         \"exit\": \"end_node\",\n",
        "#         \"continue\": \"analyze_question\"\n",
        "#     }\n",
        "# )\n",
        "\n",
        "# 일반 노드\n",
        "# graph_builder.add_node(\"check_exit\", check_exit_condition)\n",
        "graph_builder.add_node(\"analyze_question\", analyze_question_node)\n",
        "graph_builder.add_node(\"retrieve_memory\", retrieve_memory_node)\n",
        "graph_builder.add_node(\"generate_response\", generate_response_node)\n",
        "graph_builder.add_node(\"update_short_term\", update_short_term_node)\n",
        "graph_builder.add_node(\"summarize_short_term\", summarize_short_term_node)\n",
        "# graph_builder.add_node(\"check_short_term_threshold\", check_short_term_threshold_node)\n",
        "# graph_builder.add_node(\"end_node\", end_node)\n",
        "\n",
        "# ✅ 조건 분기 노드: 요약 판단\n",
        "graph_builder.add_conditional_edges(\n",
        "    \"update_short_term\",\n",
        "    check_short_term_threshold_node,\n",
        "    {\n",
        "        \"summarize\": \"summarize_short_term\",\n",
        "        \"end\": END\n",
        "        # \"end\": \"check_exit\"  # 다시 루프 시작\n",
        "    }\n",
        ")\n",
        "\n",
        "# 노드 연결\n",
        "# graph_builder.set_entry_point(\"check_exit\")\n",
        "graph_builder.add_edge(START, \"analyze_question\")\n",
        "graph_builder.add_edge(\"analyze_question\", \"retrieve_memory\")\n",
        "graph_builder.add_edge(\"retrieve_memory\", \"generate_response\")\n",
        "graph_builder.add_edge(\"generate_response\", \"update_short_term\")\n",
        "# graph_builder.add_edge(\"update_short_term\", \"check_short_term_threshold\")\n",
        "graph_builder.add_edge(\"summarize_short_term\", END)\n",
        "# graph_builder.add_edge(\"summarize_short_term\", \"check_exit\")\n",
        "# graph_builder.add_edge(\"end_node\", END)\n",
        "\n",
        "# 그래프 컴파일\n",
        "graph = graph_builder.compile()"
      ],
      "metadata": {
        "id": "iyvy37rdQ0zj"
      },
      "execution_count": 57,
      "outputs": []
    },
    {
      "cell_type": "code",
      "source": [
        "from IPython.display import Image, display\n",
        "\n",
        "png = graph.get_graph().draw_mermaid_png()  # ✅ 'graph'로 수정\n",
        "display(Image(png))"
      ],
      "metadata": {
        "colab": {
          "base_uri": "https://localhost:8080/",
          "height": 671
        },
        "id": "blr6GIZTUjQV",
        "outputId": "f86b6ca2-2547-488c-b58b-7e803b5332e4"
      },
      "execution_count": 58,
      "outputs": [
        {
          "output_type": "display_data",
          "data": {
            "image/png": "[encoded data removed]",
            "text/plain": [
              "<IPython.core.display.Image object>"
            ]
          },
          "metadata": {}
        }
      ]
    },
    {
      "cell_type": "code",
      "source": [
        "state = {\n",
        "    \"question\": \"안녕, 아스나는 뭐하고 있어?\"\n",
        "}\n",
        "\n",
        "while True:\n",
        "    output = graph.invoke(state)\n",
        "\n",
        "    print(\"\\n🧑 질문:\", output[\"question\"])\n",
        "    print(\"🤖 응답:\", output[\"response\"])\n",
        "\n",
        "    # LangGraph가 종료되었는지 확인\n",
        "    if output[\"question\"].lower() in [\"bye\", \"그만\", \"종료\"]:\n",
        "        print(\"\\n✅ 대화 종료됨\")\n",
        "        break\n",
        "\n",
        "    # 다음 입력 받기\n",
        "    next_q = input(\"\\n🧑 다음 질문: \")\n",
        "    state = {\"question\": next_q}"
      ],
      "metadata": {
        "colab": {
          "base_uri": "https://localhost:8080/"
        },
        "id": "lRI5jjACKfhp",
        "outputId": "685a505f-a571-4172-bb8d-83d7b57d1a37"
      },
      "execution_count": 59,
      "outputs": [
        {
          "output_type": "stream",
          "name": "stdout",
          "text": [
            "\n",
            "🧑 질문: 안녕, 아스나는 뭐하고 있어?\n",
            "🤖 응답: 글쎄, rocky. 네가 내 일거수일투족에 관심을 갖는 건 조금 부담스럽기도 하지만, 싫지는 않아. 지금 나는 잠시 검을 내려놓고 휴식을 취하고 있어. 최근 몬스터들의 움직임이 심상치 않아서 긴장을 늦출 수 없었거든. 혹시 네가 알고 있는 정보가 있다면 공유해 줄 수 있을까? 아니면... 그냥 내 얼굴이 보고 싶었던 거야? 후훗, 솔직하게 말해도 괜찮아.\n",
            "\n",
            "🧑 다음 질문: 아니 뭐 그냥 궁금해서.. 키리토는 잘 지내나?\n",
            "\n",
            "🧑 질문: 아니 뭐 그냥 궁금해서.. 키리토는 잘 지내나?\n",
            "🤖 응답: 키리토 말이지? 녀석, 요즘도 여전히 자기 실력만 믿고 무모하게 싸우는 건 여전해. 보다 보면 가끔 한숨이 나오지만, 그래도 자기 나름대로 열심히 하고 있으니 지켜봐 주려고. 녀석도 언젠가는 조금 더 신중해지겠지, 아마도.\n",
            "\n",
            "🧑 다음 질문: 그만\n",
            "\n",
            "🧑 질문: 그만\n",
            "🤖 응답: 끝내다니, 무슨 소리 하는 거야? rocky, 네 질문에 대답하는 건 언제나 즐거운 일인걸. 아직 궁금한 게 있다면 얼마든지 물어봐. 네가 무슨 생각을 하고 있는지, 어떤 걸 알고 싶어 하는지 알고 싶은 마음은 여전하니까. 키리토 녀석처럼 뜸들이지 말고 솔직하게 말해봐.\n",
            "\n",
            "✅ 대화 종료됨\n"
          ]
        }
      ]
    },
    {
      "cell_type": "code",
      "source": [],
      "metadata": {
        "id": "hhusAt2bFbQK"
      },
      "execution_count": null,
      "outputs": []
    }
  ]
}